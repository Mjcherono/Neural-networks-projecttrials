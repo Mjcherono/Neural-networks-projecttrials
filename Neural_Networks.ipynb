{
  "nbformat": 4,
  "nbformat_minor": 0,
  "metadata": {
    "colab": {
      "name": "Python Programming: Neural Networks.ipynb",
      "provenance": [],
      "include_colab_link": true
    },
    "kernelspec": {
      "name": "python3",
      "display_name": "Python 3"
    }
  },
  "cells": [
    {
      "cell_type": "markdown",
      "metadata": {
        "id": "view-in-github",
        "colab_type": "text"
      },
      "source": [
        "<a href=\"https://colab.research.google.com/github/Mjcherono/Neural-networks-projecttrials/blob/main/Neural_Networks.ipynb\" target=\"_parent\"><img src=\"https://colab.research.google.com/assets/colab-badge.svg\" alt=\"Open In Colab\"/></a>"
      ]
    },
    {
      "cell_type": "markdown",
      "metadata": {
        "id": "2R6WscQk9KpW"
      },
      "source": [
        "##<font color='green'>Python Programming: Neural Networks</font>"
      ]
    },
    {
      "cell_type": "markdown",
      "metadata": {
        "id": "PjaOiyuz9nT9"
      },
      "source": [
        "### Import Libraries"
      ]
    },
    {
      "cell_type": "code",
      "metadata": {
        "id": "aR571VKrriCT"
      },
      "source": [
        "# Importing libraries\n",
        "\n",
        "import pandas as pd\n",
        "from sklearn.model_selection import train_test_split\n",
        "# Import a standardization library\n",
        "from sklearn.preprocessing import StandardScaler\n",
        "# Import an Multi-Layer Perceptron Classifier model estimator from Scikit-Learn's neural_network library\n",
        "from sklearn.neural_network import MLPClassifier\n",
        "\n",
        "from sklearn.metrics import classification_report,confusion_matrix\n"
      ],
      "execution_count": 1,
      "outputs": []
    },
    {
      "cell_type": "markdown",
      "metadata": {
        "id": "nwM2CzLfD7-b"
      },
      "source": [
        "### Example 1: Wine Classification"
      ]
    },
    {
      "cell_type": "markdown",
      "metadata": {
        "id": "bcaUwpSUEJpO"
      },
      "source": [
        "In this example we are going to use Neural networks to classifer a wine that has been grown from the sam e region in Italy into three possible cultivars based on various chemical feautures."
      ]
    },
    {
      "cell_type": "markdown",
      "metadata": {
        "id": "HpdVtV3UCoVT"
      },
      "source": [
        "**Load Data**"
      ]
    },
    {
      "cell_type": "code",
      "metadata": {
        "id": "6-s_-r7TCu10",
        "colab": {
          "base_uri": "https://localhost:8080/",
          "height": 195
        },
        "outputId": "0c292c2f-78dc-4249-cade-a6df9c6c1164"
      },
      "source": [
        "# Loading data\n",
        "wine = pd.read_csv('http://bit.ly/wine_classification_data', names =[\"Cultivator\", \"Alchol\", \"Malic_Acid\", \"Ash\", \"Alcalinity_of_Ash\", \"Magnesium\", \"Total_phenols\", \"Falvanoids\", \"Nonflavanoid_phenols\", \"Proanthocyanins\", \"Color_intensity\", \"Hue\", \"OD280\", \"Proline\"])\n",
        "wine.head()\n",
        "# wine.shape"
      ],
      "execution_count": 2,
      "outputs": [
        {
          "output_type": "execute_result",
          "data": {
            "text/html": [
              "<div>\n",
              "<style scoped>\n",
              "    .dataframe tbody tr th:only-of-type {\n",
              "        vertical-align: middle;\n",
              "    }\n",
              "\n",
              "    .dataframe tbody tr th {\n",
              "        vertical-align: top;\n",
              "    }\n",
              "\n",
              "    .dataframe thead th {\n",
              "        text-align: right;\n",
              "    }\n",
              "</style>\n",
              "<table border=\"1\" class=\"dataframe\">\n",
              "  <thead>\n",
              "    <tr style=\"text-align: right;\">\n",
              "      <th></th>\n",
              "      <th>Cultivator</th>\n",
              "      <th>Alchol</th>\n",
              "      <th>Malic_Acid</th>\n",
              "      <th>Ash</th>\n",
              "      <th>Alcalinity_of_Ash</th>\n",
              "      <th>Magnesium</th>\n",
              "      <th>Total_phenols</th>\n",
              "      <th>Falvanoids</th>\n",
              "      <th>Nonflavanoid_phenols</th>\n",
              "      <th>Proanthocyanins</th>\n",
              "      <th>Color_intensity</th>\n",
              "      <th>Hue</th>\n",
              "      <th>OD280</th>\n",
              "      <th>Proline</th>\n",
              "    </tr>\n",
              "  </thead>\n",
              "  <tbody>\n",
              "    <tr>\n",
              "      <th>0</th>\n",
              "      <td>1</td>\n",
              "      <td>14.23</td>\n",
              "      <td>1.71</td>\n",
              "      <td>2.43</td>\n",
              "      <td>15.6</td>\n",
              "      <td>127</td>\n",
              "      <td>2.80</td>\n",
              "      <td>3.06</td>\n",
              "      <td>0.28</td>\n",
              "      <td>2.29</td>\n",
              "      <td>5.64</td>\n",
              "      <td>1.04</td>\n",
              "      <td>3.92</td>\n",
              "      <td>1065</td>\n",
              "    </tr>\n",
              "    <tr>\n",
              "      <th>1</th>\n",
              "      <td>1</td>\n",
              "      <td>13.20</td>\n",
              "      <td>1.78</td>\n",
              "      <td>2.14</td>\n",
              "      <td>11.2</td>\n",
              "      <td>100</td>\n",
              "      <td>2.65</td>\n",
              "      <td>2.76</td>\n",
              "      <td>0.26</td>\n",
              "      <td>1.28</td>\n",
              "      <td>4.38</td>\n",
              "      <td>1.05</td>\n",
              "      <td>3.40</td>\n",
              "      <td>1050</td>\n",
              "    </tr>\n",
              "    <tr>\n",
              "      <th>2</th>\n",
              "      <td>1</td>\n",
              "      <td>13.16</td>\n",
              "      <td>2.36</td>\n",
              "      <td>2.67</td>\n",
              "      <td>18.6</td>\n",
              "      <td>101</td>\n",
              "      <td>2.80</td>\n",
              "      <td>3.24</td>\n",
              "      <td>0.30</td>\n",
              "      <td>2.81</td>\n",
              "      <td>5.68</td>\n",
              "      <td>1.03</td>\n",
              "      <td>3.17</td>\n",
              "      <td>1185</td>\n",
              "    </tr>\n",
              "    <tr>\n",
              "      <th>3</th>\n",
              "      <td>1</td>\n",
              "      <td>14.37</td>\n",
              "      <td>1.95</td>\n",
              "      <td>2.50</td>\n",
              "      <td>16.8</td>\n",
              "      <td>113</td>\n",
              "      <td>3.85</td>\n",
              "      <td>3.49</td>\n",
              "      <td>0.24</td>\n",
              "      <td>2.18</td>\n",
              "      <td>7.80</td>\n",
              "      <td>0.86</td>\n",
              "      <td>3.45</td>\n",
              "      <td>1480</td>\n",
              "    </tr>\n",
              "    <tr>\n",
              "      <th>4</th>\n",
              "      <td>1</td>\n",
              "      <td>13.24</td>\n",
              "      <td>2.59</td>\n",
              "      <td>2.87</td>\n",
              "      <td>21.0</td>\n",
              "      <td>118</td>\n",
              "      <td>2.80</td>\n",
              "      <td>2.69</td>\n",
              "      <td>0.39</td>\n",
              "      <td>1.82</td>\n",
              "      <td>4.32</td>\n",
              "      <td>1.04</td>\n",
              "      <td>2.93</td>\n",
              "      <td>735</td>\n",
              "    </tr>\n",
              "  </tbody>\n",
              "</table>\n",
              "</div>"
            ],
            "text/plain": [
              "   Cultivator  Alchol  Malic_Acid   Ash  ...  Color_intensity   Hue  OD280  Proline\n",
              "0           1   14.23        1.71  2.43  ...             5.64  1.04   3.92     1065\n",
              "1           1   13.20        1.78  2.14  ...             4.38  1.05   3.40     1050\n",
              "2           1   13.16        2.36  2.67  ...             5.68  1.03   3.17     1185\n",
              "3           1   14.37        1.95  2.50  ...             7.80  0.86   3.45     1480\n",
              "4           1   13.24        2.59  2.87  ...             4.32  1.04   2.93      735\n",
              "\n",
              "[5 rows x 14 columns]"
            ]
          },
          "metadata": {
            "tags": []
          },
          "execution_count": 2
        }
      ]
    },
    {
      "cell_type": "code",
      "metadata": {
        "id": "gHH6gQy3DtHB"
      },
      "source": [
        "# Setting up our labels and features\n",
        "X =  wine.drop('Cultivator', axis = 1)\n",
        "y = wine[\"Cultivator\"]\n"
      ],
      "execution_count": 12,
      "outputs": []
    },
    {
      "cell_type": "markdown",
      "metadata": {
        "id": "3hhUKK9xDacn"
      },
      "source": [
        "**Split Data**"
      ]
    },
    {
      "cell_type": "code",
      "metadata": {
        "id": "jWTvZ6uUDZCb"
      },
      "source": [
        "# Splitting the data into train and test sets\n",
        "X_train, X_test, y_train, y_test = train_test_split(X, y, test_size = 0.2, random_state = 10)\n",
        "  "
      ],
      "execution_count": 4,
      "outputs": []
    },
    {
      "cell_type": "markdown",
      "metadata": {
        "id": "i08BRcXbGhNB"
      },
      "source": [
        "**Normalization of data**\n",
        "\n",
        "Multi-Layer Perceptron class is very sensitve to feature scaling, thus it is always a good habit to sclae our data.\n",
        "\n",
        "However, feature scaling is only fitted on the training data and not the test data. This is due to the fact that in real world data is not scaled and the major purpose of neural networks is to make predictions on real world data. Hence we try as musch as possible to keep the test data real. "
      ]
    },
    {
      "cell_type": "code",
      "metadata": {
        "id": "2qwVg5PYNyRC"
      },
      "source": [
        "# Initialize the scaler\n",
        "scaler = StandardScaler()\n",
        "\n",
        "# Fitting the scaler\n",
        "scaler.fit(X_train)\n",
        "\n",
        "# Applying the transformation to the data\n",
        "X_train = scaler.transform(X_train)\n",
        "\n",
        "X_test = scaler.transform(X_test)\n"
      ],
      "execution_count": 5,
      "outputs": []
    },
    {
      "cell_type": "markdown",
      "metadata": {
        "id": "C_fJiR6IPEhd"
      },
      "source": [
        "**Training the Model**"
      ]
    },
    {
      "cell_type": "code",
      "metadata": {
        "id": "_7fLrj3IPJg-",
        "colab": {
          "base_uri": "https://localhost:8080/"
        },
        "outputId": "805dfd48-eea0-41ef-cd5c-869d1fb8956b"
      },
      "source": [
        "# Creating an instance of the model\n",
        "# The MLPClassifier takes in a number of arguments but we are only going to use one for now which is hidden_layer_sizes. we will explore the rest of the arguments in the next session after we have looked at optimization\n",
        "# For the hidden_layer_sizes we pass in a tuple that consist the number of neurons we want each layer to have. The nth number of the tuple represents the number of layers you want your network to have.\n",
        "# For us, we will choose 3 layers with the same number of neurons\n",
        "# YOu can read more on the MLPClasssifier here: https://scikit-learn.org/stable/modules/generated/sklearn.neural_network.MLPClassifier.html#sklearn.neural_network.MLPClassifier\n",
        "\n",
        "mlp = MLPClassifier(hidden_layer_sizes = (13, 13,13), max_iter = 500)\n",
        "\n",
        "# fitting the data\n",
        "mlp.fit(X_train,y_train)\n",
        "\n",
        "#By default the activation is set to ReLu function but you can always change it to suit your needs. You can always check the other option available from the documentation"
      ],
      "execution_count": 6,
      "outputs": [
        {
          "output_type": "execute_result",
          "data": {
            "text/plain": [
              "MLPClassifier(activation='relu', alpha=0.0001, batch_size='auto', beta_1=0.9,\n",
              "              beta_2=0.999, early_stopping=False, epsilon=1e-08,\n",
              "              hidden_layer_sizes=(13, 13, 13), learning_rate='constant',\n",
              "              learning_rate_init=0.001, max_fun=15000, max_iter=500,\n",
              "              momentum=0.9, n_iter_no_change=10, nesterovs_momentum=True,\n",
              "              power_t=0.5, random_state=None, shuffle=True, solver='adam',\n",
              "              tol=0.0001, validation_fraction=0.1, verbose=False,\n",
              "              warm_start=False)"
            ]
          },
          "metadata": {
            "tags": []
          },
          "execution_count": 6
        }
      ]
    },
    {
      "cell_type": "markdown",
      "metadata": {
        "id": "loiqqK6wSjk2"
      },
      "source": [
        "**Prediction and Evaluation**"
      ]
    },
    {
      "cell_type": "code",
      "metadata": {
        "id": "dLNUuvA1Sqk-",
        "colab": {
          "base_uri": "https://localhost:8080/"
        },
        "outputId": "c1432274-f989-46a1-fb86-bcda499d7980"
      },
      "source": [
        "# Now that we have our model in place, let's do the prediction\n",
        "\n",
        "pred = mlp.predict(X_test)\n",
        "\n",
        "\n",
        "# Evaluating the performance of ur model\n",
        "print (confusion_matrix(y_test,pred))\n",
        "\n",
        "print('-----------------------------------------------')\n",
        "\n",
        "print(classification_report(y_test,pred))"
      ],
      "execution_count": 7,
      "outputs": [
        {
          "output_type": "stream",
          "text": [
            "[[10  0  0]\n",
            " [ 0 16  2]\n",
            " [ 0  0  8]]\n",
            "-----------------------------------------------\n",
            "              precision    recall  f1-score   support\n",
            "\n",
            "           1       1.00      1.00      1.00        10\n",
            "           2       1.00      0.89      0.94        18\n",
            "           3       0.80      1.00      0.89         8\n",
            "\n",
            "    accuracy                           0.94        36\n",
            "   macro avg       0.93      0.96      0.94        36\n",
            "weighted avg       0.96      0.94      0.95        36\n",
            "\n"
          ],
          "name": "stdout"
        }
      ]
    },
    {
      "cell_type": "markdown",
      "metadata": {
        "id": "luQ-J4xBUa35"
      },
      "source": [
        "**Conclusion**\n",
        "\n",
        "From the results we can see that we have only missclassified two bottles of wine in our test data.\n",
        "\n",
        "One downside using Multi-Layer Perception model is that it's dificult to interpret the model itself. The weights and biases are not easily interpretable in relatin to which features are important to the model itself.\n",
        "\n",
        "However, we can be able to extract the weights and biases after training our model.\n",
        "\n",
        "\n",
        "\n",
        "**PS**: Try using different activation functions and see which one given you the best results"
      ]
    },
    {
      "cell_type": "code",
      "metadata": {
        "id": "btvMNTySWC5F",
        "colab": {
          "base_uri": "https://localhost:8080/"
        },
        "outputId": "55f0b8c3-3042-4fa4-9fbf-ce6b62a9c993"
      },
      "source": [
        "# Extracting the weights and bias vectors\n",
        "\n",
        "# Checking the number of weights \n",
        "print(len(mlp.coefs_)) \n",
        "\n",
        "# Checking the number of biases \n",
        "print(len(mlp.intercepts_) )"
      ],
      "execution_count": 9,
      "outputs": [
        {
          "output_type": "stream",
          "text": [
            "4\n",
            "4\n"
          ],
          "name": "stdout"
        }
      ]
    },
    {
      "cell_type": "markdown",
      "metadata": {
        "id": "18lsiAZ5XMrR"
      },
      "source": [
        "## <font color='green'>Challenge 1</font>"
      ]
    },
    {
      "cell_type": "code",
      "metadata": {
        "id": "klT46BO6XgdI",
        "colab": {
          "base_uri": "https://localhost:8080/"
        },
        "outputId": "e26e23da-f357-4313-ef55-c81e840ebfa1"
      },
      "source": [
        "# Apply neural network technique to the Iris dataset we used in SVM to classify the different classes of flowers. Compare the performance of SVM to that of neural networks and see which is better\n",
        "#  Dataset Url ----> http://bit.ly/Iris_flower_data\n",
        "\n",
        "iris = pd.read_csv('http://bit.ly/Iris_flower_data')\n",
        "\n",
        "X =  iris.drop('Class', axis = 1)\n",
        "y = iris[\"Class\"]\n",
        "\n",
        "X_train, X_test, y_train, y_test = train_test_split(X, y, test_size = 0.2, random_state = 10)\n",
        "\n",
        "scaler = StandardScaler()\n",
        "scaler.fit(X_train)\n",
        "X_train = scaler.transform(X_train)\n",
        "X_test = scaler.transform(X_test)\n",
        "\n",
        "mlp = MLPClassifier(hidden_layer_sizes = (13, 13,13), max_iter = 500)\n",
        "mlp.fit(X_train,y_train)\n",
        "\n",
        "pred = mlp.predict(X_test)\n",
        "print (confusion_matrix(y_test,pred))\n",
        "print(classification_report(y_test,pred))"
      ],
      "execution_count": 13,
      "outputs": [
        {
          "output_type": "stream",
          "text": [
            "[[10  0  0]\n",
            " [ 0 13  0]\n",
            " [ 0  0  7]]\n",
            "                 precision    recall  f1-score   support\n",
            "\n",
            "    Iris-setosa       1.00      1.00      1.00        10\n",
            "Iris-versicolor       1.00      1.00      1.00        13\n",
            " Iris-virginica       1.00      1.00      1.00         7\n",
            "\n",
            "       accuracy                           1.00        30\n",
            "      macro avg       1.00      1.00      1.00        30\n",
            "   weighted avg       1.00      1.00      1.00        30\n",
            "\n"
          ],
          "name": "stdout"
        }
      ]
    },
    {
      "cell_type": "code",
      "metadata": {
        "colab": {
          "base_uri": "https://localhost:8080/"
        },
        "id": "NQu7aiVUgnp8",
        "outputId": "8ebe53b9-bf63-4200-fcf3-7f124a61169c"
      },
      "source": [
        "# Checking the number of weights \n",
        "print(len(mlp.coefs_)) \n",
        "\n",
        "# Checking the number of biases \n",
        "print(len(mlp.intercepts_) )"
      ],
      "execution_count": 14,
      "outputs": [
        {
          "output_type": "stream",
          "text": [
            "4\n",
            "4\n"
          ],
          "name": "stdout"
        }
      ]
    },
    {
      "cell_type": "markdown",
      "metadata": {
        "id": "SLvvIc8VFEiO"
      },
      "source": [
        "## <font color='green'>Challenge 2\n",
        "</font>"
      ]
    },
    {
      "cell_type": "code",
      "metadata": {
        "id": "1brz62LrFIbd",
        "colab": {
          "base_uri": "https://localhost:8080/"
        },
        "outputId": "5cc8c45f-d138-4c8b-c1bb-48be627128fc"
      },
      "source": [
        "# Use the following dataset to classsify if a patient has diabetes or not\n",
        "\n",
        "# Dataset Url -------> http://bit.ly/diabetes_data\n",
        "diabetes = pd.read_csv('http://bit.ly/diabetes_data')\n",
        "\n",
        "X =  diabetes.drop('Outcome', axis = 1)\n",
        "y = diabetes[\"Outcome\"]\n",
        "\n",
        "X_train, X_test, y_train, y_test = train_test_split(X, y, test_size = 0.2, random_state = 10)\n",
        "\n",
        "scaler = StandardScaler()\n",
        "scaler.fit(X_train)\n",
        "X_train = scaler.transform(X_train)\n",
        "X_test = scaler.transform(X_test)\n",
        "\n",
        "mlp = MLPClassifier(hidden_layer_sizes = (13, 13,13), max_iter = 500)\n",
        "mlp.fit(X_train,y_train)\n",
        "\n",
        "pred = mlp.predict(X_test)\n",
        "print (confusion_matrix(y_test,pred))\n",
        "print(classification_report(y_test,pred))"
      ],
      "execution_count": 18,
      "outputs": [
        {
          "output_type": "stream",
          "text": [
            "[[77 18]\n",
            " [22 37]]\n",
            "              precision    recall  f1-score   support\n",
            "\n",
            "           0       0.78      0.81      0.79        95\n",
            "           1       0.67      0.63      0.65        59\n",
            "\n",
            "    accuracy                           0.74       154\n",
            "   macro avg       0.73      0.72      0.72       154\n",
            "weighted avg       0.74      0.74      0.74       154\n",
            "\n"
          ],
          "name": "stdout"
        },
        {
          "output_type": "stream",
          "text": [
            "/usr/local/lib/python3.6/dist-packages/sklearn/neural_network/_multilayer_perceptron.py:571: ConvergenceWarning: Stochastic Optimizer: Maximum iterations (500) reached and the optimization hasn't converged yet.\n",
            "  % self.max_iter, ConvergenceWarning)\n"
          ],
          "name": "stderr"
        }
      ]
    },
    {
      "cell_type": "code",
      "metadata": {
        "colab": {
          "base_uri": "https://localhost:8080/"
        },
        "id": "VQsRJY5Bf8rW",
        "outputId": "a5f3b4a8-67a5-486b-912f-83ad30e2544b"
      },
      "source": [
        "# Checking the number of weights \n",
        "print(len(mlp.coefs_)) \n",
        "\n",
        "# Checking the number of biases \n",
        "print(len(mlp.intercepts_) )"
      ],
      "execution_count": 19,
      "outputs": [
        {
          "output_type": "stream",
          "text": [
            "4\n",
            "4\n"
          ],
          "name": "stdout"
        }
      ]
    },
    {
      "cell_type": "code",
      "metadata": {
        "id": "-8v5J04OhmJx"
      },
      "source": [
        ""
      ],
      "execution_count": null,
      "outputs": []
    }
  ]
}